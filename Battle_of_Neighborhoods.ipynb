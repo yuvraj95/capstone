{
    "nbformat_minor": 1, 
    "cells": [
        {
            "source": "### Battle Of the Neighborhoods", 
            "cell_type": "markdown", 
            "metadata": {
                "collapsed": true
            }
        }, 
        {
            "execution_count": 1, 
            "cell_type": "code", 
            "metadata": {}, 
            "outputs": [
                {
                    "output_type": "stream", 
                    "name": "stdout", 
                    "text": "Requirement not upgraded as not directly required: folium in /opt/conda/envs/DSX-Python35/lib/python3.5/site-packages\nRequirement not upgraded as not directly required: requests in /opt/conda/envs/DSX-Python35/lib/python3.5/site-packages (from folium)\nRequirement not upgraded as not directly required: branca in /opt/conda/envs/DSX-Python35/lib/python3.5/site-packages (from folium)\nRequirement not upgraded as not directly required: jinja2 in /opt/conda/envs/DSX-Python35/lib/python3.5/site-packages (from folium)\nRequirement not upgraded as not directly required: six in /opt/conda/envs/DSX-Python35/lib/python3.5/site-packages (from folium)\nRequirement not upgraded as not directly required: chardet<3.1.0,>=3.0.2 in /opt/conda/envs/DSX-Python35/lib/python3.5/site-packages (from requests->folium)\nRequirement not upgraded as not directly required: idna<2.7,>=2.5 in /opt/conda/envs/DSX-Python35/lib/python3.5/site-packages (from requests->folium)\nRequirement not upgraded as not directly required: urllib3<1.23,>=1.21.1 in /opt/conda/envs/DSX-Python35/lib/python3.5/site-packages (from requests->folium)\nRequirement not upgraded as not directly required: certifi>=2017.4.17 in /opt/conda/envs/DSX-Python35/lib/python3.5/site-packages (from requests->folium)\nRequirement not upgraded as not directly required: MarkupSafe>=0.23 in /opt/conda/envs/DSX-Python35/lib/python3.5/site-packages (from jinja2->folium)\nLibraries  have been imported\n"
                }
            ], 
            "source": "# import all libraries required\nimport numpy as np\nimport pandas as pd\n\nfrom pandas.io.json import json_normalize \nimport json\n\nfrom geopy.geocoders import Nominatim \nimport requests \n\nimport matplotlib.cm as cm\nimport matplotlib.colors as colors\nfrom sklearn.cluster import KMeans\n\n!pip install folium\nimport folium\nfrom bs4 import BeautifulSoup\n\nprint(\"Libraries  have been imported\")"
        }, 
        {
            "execution_count": 2, 
            "cell_type": "code", 
            "metadata": {}, 
            "outputs": [], 
            "source": "# The code was removed by DSX for sharing."
        }, 
        {
            "source": "### Step 1 : Load the list of cities", 
            "cell_type": "markdown", 
            "metadata": {}
        }, 
        {
            "execution_count": 3, 
            "cell_type": "code", 
            "metadata": {}, 
            "outputs": [
                {
                    "output_type": "stream", 
                    "name": "stdout", 
                    "text": "Enter your choice of cities from india (Seperated by a comma [,]) or press c and enterc\n"
                }
            ], 
            "source": "default_list = [\"Lucknow\", \"Varanasi\", \"Bareilly\",\"Noida\"]\ninput_argument = input(\"Enter your choice of cities from india (Seperated by a comma [,]) or press c and enter\")\nif input_argument == 'c':\n    list_to_use = default_list\nelse:\n    list_to_use = input_argument.split(',')"
        }, 
        {
            "execution_count": 4, 
            "cell_type": "code", 
            "metadata": {}, 
            "outputs": [
                {
                    "execution_count": 4, 
                    "metadata": {}, 
                    "data": {
                        "text/plain": "['Lucknow', 'Varanasi', 'Bareilly', 'Noida']"
                    }, 
                    "output_type": "execute_result"
                }
            ], 
            "source": "list_to_use"
        }, 
        {
            "execution_count": 5, 
            "cell_type": "code", 
            "metadata": {}, 
            "outputs": [], 
            "source": "#define a function for extra\ndef get_postcode_coordinates(api_key, postcode, country='India', verbose=False):\n    try:\n        url = 'https://maps.googleapis.com/maps/api/geocode/json?address={},{}&key={}'.format(postcode, country,api_key)\n        response = requests.get(url).json()\n        if verbose:\n            print('Google Maps API JSON result =>', response)\n        results = response['results']\n        geographical_data = results[0]['geometry']['location'] # get geographical coordinates\n        lat = geographical_data['lat']\n        lon = geographical_data['lng']\n        return lat, lon\n    except:\n        return None, None"
        }, 
        {
            "execution_count": 6, 
            "cell_type": "code", 
            "metadata": {}, 
            "outputs": [
                {
                    "output_type": "stream", 
                    "name": "stdout", 
                    "text": "Lat: 26.8466937 Lon: 80.94616599999999\n"
                }
            ], 
            "source": "lat, lon = get_postcode_coordinates(API_key, 'Lucknow')\nprint('Lat:', lat, 'Lon:', lon)"
        }, 
        {
            "execution_count": 7, 
            "cell_type": "code", 
            "metadata": {}, 
            "outputs": [
                {
                    "output_type": "stream", 
                    "name": "stdout", 
                    "text": "Lat: 26.8466937 Lon: 80.94616599999999\nLat: 25.3176452 Lon: 82.9739144\nLat: 28.3670355 Lon: 79.4304381\nLat: 28.5355161 Lon: 77.3910265\n"
                }
            ], 
            "source": "location_dictionary ={}\nfor city in list_to_use:\n    lat, lon = get_postcode_coordinates(API_key, city)\n    #also store the data in a dictionary\n    location_dictionary[city] = lat,lon\n    print('Lat:', lat, 'Lon:', lon)"
        }, 
        {
            "execution_count": 8, 
            "cell_type": "code", 
            "metadata": {}, 
            "outputs": [
                {
                    "execution_count": 8, 
                    "metadata": {}, 
                    "data": {
                        "text/plain": "{'Bareilly': (28.3670355, 79.4304381),\n 'Lucknow': (26.8466937, 80.94616599999999),\n 'Noida': (28.5355161, 77.3910265),\n 'Varanasi': (25.3176452, 82.9739144)}"
                    }, 
                    "output_type": "execute_result"
                }
            ], 
            "source": "location_dictionary"
        }, 
        {
            "source": "### Step 2 : Access the Foursquare API to locate the coffee shops in the region", 
            "cell_type": "markdown", 
            "metadata": {}
        }, 
        {
            "execution_count": 9, 
            "cell_type": "code", 
            "metadata": {}, 
            "outputs": [], 
            "source": "# The code was removed by DSX for sharing."
        }, 
        {
            "execution_count": 10, 
            "cell_type": "code", 
            "metadata": {}, 
            "outputs": [
                {
                    "execution_count": 10, 
                    "metadata": {}, 
                    "data": {
                        "text/html": "<div>\n<style scoped>\n    .dataframe tbody tr th:only-of-type {\n        vertical-align: middle;\n    }\n\n    .dataframe tbody tr th {\n        vertical-align: top;\n    }\n\n    .dataframe thead th {\n        text-align: right;\n    }\n</style>\n<table border=\"1\" class=\"dataframe\">\n  <thead>\n    <tr style=\"text-align: right;\">\n      <th></th>\n      <th>city</th>\n      <th>shop_name</th>\n      <th>latitude</th>\n      <th>longitude</th>\n    </tr>\n  </thead>\n  <tbody>\n  </tbody>\n</table>\n</div>", 
                        "text/plain": "Empty DataFrame\nColumns: [city, shop_name, latitude, longitude]\nIndex: []"
                    }, 
                    "output_type": "execute_result"
                }
            ], 
            "source": "#dataframe for storing he related data from cities\ndf = pd.DataFrame(columns =['city','shop_name','latitude','longitude'])\n#df['city'] = location_dictionary.keys()\ndf"
        }, 
        {
            "execution_count": null, 
            "cell_type": "code", 
            "metadata": {}, 
            "outputs": [], 
            "source": ""
        }, 
        {
            "execution_count": 11, 
            "cell_type": "code", 
            "metadata": {}, 
            "outputs": [], 
            "source": "def get_top_venues(loc_name, lat, lon, client_id, client_secret,query=\"coffee\",intent=\"browse\", radius=5000, limit=100):\n    version = '20180605'\n    url = 'https://api.foursquare.com/v2/venues/search?client_id={}&client_secret={}&v={}&query={}&ll={},{}&intent={}&radius={}&limit={}'.format(\n        client_id, client_secret, version,query,lat, lon,intent,radius, limit)\n    \n    venues = requests.get(url).json()['response']['venues']\n    \n    #temporary dataframe\n    df_temp = pd.DataFrame(columns =['city','shop name','latitude','longitude'])\n    \n    #from all these venues extract the name and coords\n    for i in range(len(venues)):\n        df_temp.loc[i] = [loc_name,venues[i][\"name\"],venues[i]['location']['lat'],venues[i]['location']['lng']]\n    return df_temp\n        #shop_name.append(venues[i][\"name\"])\n        #shop_address.append(venues[i]['location'][\"address\"])\n        #shop_latitude.append(venues[i]['location']['lat'])\n        #shop_longitude.append(venues[i]['location']['lng'])\n        \n        \n#    venues = [(loc_name,\n#               lat,\n#               lon,\n#               row['venue']['name'],\n#               row['venue']['location']['lat'],\n#               row['venue']['location']['lng'],\n#               get_category_type(row)) for row in results]"
        }, 
        {
            "execution_count": 12, 
            "cell_type": "code", 
            "metadata": {}, 
            "outputs": [], 
            "source": "for loc_name, coords in location_dictionary.items():\n    df = pd.concat([df,get_top_venues(loc_name, coords[0],coords[1], CLIENT_ID, CLIENT_SECRET)])"
        }, 
        {
            "execution_count": 13, 
            "cell_type": "code", 
            "metadata": {
                "scrolled": true
            }, 
            "outputs": [
                {
                    "execution_count": 13, 
                    "metadata": {}, 
                    "data": {
                        "text/html": "<div>\n<style scoped>\n    .dataframe tbody tr th:only-of-type {\n        vertical-align: middle;\n    }\n\n    .dataframe tbody tr th {\n        vertical-align: top;\n    }\n\n    .dataframe thead th {\n        text-align: right;\n    }\n</style>\n<table border=\"1\" class=\"dataframe\">\n  <thead>\n    <tr style=\"text-align: right;\">\n      <th></th>\n      <th>city</th>\n      <th>latitude</th>\n      <th>longitude</th>\n      <th>shop name</th>\n      <th>shop_name</th>\n    </tr>\n  </thead>\n  <tbody>\n    <tr>\n      <th>0</th>\n      <td>Noida</td>\n      <td>28.519199</td>\n      <td>77.380990</td>\n      <td>Cafe Coffee Day (ATS Village)</td>\n      <td>NaN</td>\n    </tr>\n    <tr>\n      <th>1</th>\n      <td>Noida</td>\n      <td>28.516178</td>\n      <td>77.383467</td>\n      <td>cafe coffee day</td>\n      <td>NaN</td>\n    </tr>\n    <tr>\n      <th>2</th>\n      <td>Noida</td>\n      <td>28.515666</td>\n      <td>77.371611</td>\n      <td>Costa Coffee (Jaypee Hospital)</td>\n      <td>NaN</td>\n    </tr>\n    <tr>\n      <th>3</th>\n      <td>Noida</td>\n      <td>28.501340</td>\n      <td>77.401323</td>\n      <td>Cafe Coffee Day</td>\n      <td>NaN</td>\n    </tr>\n    <tr>\n      <th>4</th>\n      <td>Noida</td>\n      <td>28.499731</td>\n      <td>77.404219</td>\n      <td>Cafe Coffee Day</td>\n      <td>NaN</td>\n    </tr>\n    <tr>\n      <th>5</th>\n      <td>Noida</td>\n      <td>28.534442</td>\n      <td>77.346292</td>\n      <td>Coffee World</td>\n      <td>NaN</td>\n    </tr>\n    <tr>\n      <th>6</th>\n      <td>Noida</td>\n      <td>28.567270</td>\n      <td>77.360541</td>\n      <td>coffee shop</td>\n      <td>NaN</td>\n    </tr>\n    <tr>\n      <th>7</th>\n      <td>Noida</td>\n      <td>28.537571</td>\n      <td>77.342350</td>\n      <td>Coffee Day xpress</td>\n      <td>NaN</td>\n    </tr>\n    <tr>\n      <th>8</th>\n      <td>Noida</td>\n      <td>28.570511</td>\n      <td>77.362161</td>\n      <td>Cafe Coffee Day Sector 50 Noida</td>\n      <td>NaN</td>\n    </tr>\n    <tr>\n      <th>0</th>\n      <td>Varanasi</td>\n      <td>25.323012</td>\n      <td>82.990287</td>\n      <td>cafe coffee day</td>\n      <td>NaN</td>\n    </tr>\n    <tr>\n      <th>1</th>\n      <td>Varanasi</td>\n      <td>25.337943</td>\n      <td>82.979218</td>\n      <td>Cafe Coffee Day JHV MALL</td>\n      <td>NaN</td>\n    </tr>\n    <tr>\n      <th>2</th>\n      <td>Varanasi</td>\n      <td>25.338593</td>\n      <td>82.980662</td>\n      <td>East West The Coffee Shop</td>\n      <td>NaN</td>\n    </tr>\n    <tr>\n      <th>3</th>\n      <td>Varanasi</td>\n      <td>25.299431</td>\n      <td>82.999529</td>\n      <td>Anamika coffee and kulfi house</td>\n      <td>NaN</td>\n    </tr>\n    <tr>\n      <th>4</th>\n      <td>Varanasi</td>\n      <td>25.304594</td>\n      <td>83.007799</td>\n      <td>Nandey Tea and Coffee</td>\n      <td>NaN</td>\n    </tr>\n    <tr>\n      <th>5</th>\n      <td>Varanasi</td>\n      <td>25.310793</td>\n      <td>83.010138</td>\n      <td>Coffee Stop</td>\n      <td>NaN</td>\n    </tr>\n    <tr>\n      <th>0</th>\n      <td>Bareilly</td>\n      <td>28.377259</td>\n      <td>79.429062</td>\n      <td>Cafe Coffee Day</td>\n      <td>NaN</td>\n    </tr>\n    <tr>\n      <th>1</th>\n      <td>Bareilly</td>\n      <td>28.394500</td>\n      <td>79.456743</td>\n      <td>Cafe Coffee Day</td>\n      <td>NaN</td>\n    </tr>\n    <tr>\n      <th>0</th>\n      <td>Lucknow</td>\n      <td>26.847243</td>\n      <td>80.946516</td>\n      <td>India Coffee House</td>\n      <td>NaN</td>\n    </tr>\n    <tr>\n      <th>1</th>\n      <td>Lucknow</td>\n      <td>26.855659</td>\n      <td>80.945189</td>\n      <td>Cafe Coffee Day</td>\n      <td>NaN</td>\n    </tr>\n    <tr>\n      <th>2</th>\n      <td>Lucknow</td>\n      <td>26.849581</td>\n      <td>80.935043</td>\n      <td>Caf\u00e9 Coffee Day</td>\n      <td>NaN</td>\n    </tr>\n    <tr>\n      <th>3</th>\n      <td>Lucknow</td>\n      <td>26.881280</td>\n      <td>80.939781</td>\n      <td>Cafe Coffee day</td>\n      <td>NaN</td>\n    </tr>\n    <tr>\n      <th>4</th>\n      <td>Lucknow</td>\n      <td>26.871536</td>\n      <td>80.973428</td>\n      <td>CAFE COFFEE DAY</td>\n      <td>NaN</td>\n    </tr>\n    <tr>\n      <th>5</th>\n      <td>Lucknow</td>\n      <td>26.873806</td>\n      <td>80.956908</td>\n      <td>Coffee Culture</td>\n      <td>NaN</td>\n    </tr>\n    <tr>\n      <th>6</th>\n      <td>Lucknow</td>\n      <td>26.824853</td>\n      <td>80.962555</td>\n      <td>Cafe Coffee Day</td>\n      <td>NaN</td>\n    </tr>\n    <tr>\n      <th>7</th>\n      <td>Lucknow</td>\n      <td>26.857688</td>\n      <td>80.975616</td>\n      <td>cafe coffee day</td>\n      <td>NaN</td>\n    </tr>\n    <tr>\n      <th>8</th>\n      <td>Lucknow</td>\n      <td>26.846255</td>\n      <td>80.987518</td>\n      <td>Cafe Coffee Day</td>\n      <td>NaN</td>\n    </tr>\n  </tbody>\n</table>\n</div>", 
                        "text/plain": "       city   latitude  longitude                        shop name shop_name\n0     Noida  28.519199  77.380990    Cafe Coffee Day (ATS Village)       NaN\n1     Noida  28.516178  77.383467                  cafe coffee day       NaN\n2     Noida  28.515666  77.371611   Costa Coffee (Jaypee Hospital)       NaN\n3     Noida  28.501340  77.401323                  Cafe Coffee Day       NaN\n4     Noida  28.499731  77.404219                  Cafe Coffee Day       NaN\n5     Noida  28.534442  77.346292                     Coffee World       NaN\n6     Noida  28.567270  77.360541                      coffee shop       NaN\n7     Noida  28.537571  77.342350                Coffee Day xpress       NaN\n8     Noida  28.570511  77.362161  Cafe Coffee Day Sector 50 Noida       NaN\n0  Varanasi  25.323012  82.990287                  cafe coffee day       NaN\n1  Varanasi  25.337943  82.979218         Cafe Coffee Day JHV MALL       NaN\n2  Varanasi  25.338593  82.980662        East West The Coffee Shop       NaN\n3  Varanasi  25.299431  82.999529   Anamika coffee and kulfi house       NaN\n4  Varanasi  25.304594  83.007799            Nandey Tea and Coffee       NaN\n5  Varanasi  25.310793  83.010138                      Coffee Stop       NaN\n0  Bareilly  28.377259  79.429062                  Cafe Coffee Day       NaN\n1  Bareilly  28.394500  79.456743                  Cafe Coffee Day       NaN\n0   Lucknow  26.847243  80.946516               India Coffee House       NaN\n1   Lucknow  26.855659  80.945189                  Cafe Coffee Day       NaN\n2   Lucknow  26.849581  80.935043                  Caf\u00e9 Coffee Day       NaN\n3   Lucknow  26.881280  80.939781                  Cafe Coffee day       NaN\n4   Lucknow  26.871536  80.973428                  CAFE COFFEE DAY       NaN\n5   Lucknow  26.873806  80.956908                   Coffee Culture       NaN\n6   Lucknow  26.824853  80.962555                  Cafe Coffee Day       NaN\n7   Lucknow  26.857688  80.975616                  cafe coffee day       NaN\n8   Lucknow  26.846255  80.987518                  Cafe Coffee Day       NaN"
                    }, 
                    "output_type": "execute_result"
                }
            ], 
            "source": "df"
        }, 
        {
            "source": "### Figure out which city has the most consumption", 
            "cell_type": "markdown", 
            "metadata": {}
        }, 
        {
            "execution_count": 14, 
            "cell_type": "code", 
            "metadata": {}, 
            "outputs": [
                {
                    "execution_count": 14, 
                    "metadata": {}, 
                    "data": {
                        "text/plain": "['Lucknow', 'Noida', 'Varanasi']"
                    }, 
                    "output_type": "execute_result"
                }
            ], 
            "source": "#here we calculate the top 3 cities with max number of coffee shops\ntop3cities_df = df.city.value_counts()[:3]\ntop3cities = df.city.value_counts()[:3].index.tolist()\ntop3cities"
        }, 
        {
            "execution_count": 15, 
            "cell_type": "code", 
            "metadata": {}, 
            "outputs": [
                {
                    "execution_count": 15, 
                    "metadata": {}, 
                    "data": {
                        "text/plain": "0    26.847243\n1    26.855659\n2    26.849581\n3    26.881280\n4    26.871536\n5    26.873806\n6    26.824853\n7    26.857688\n8    26.846255\nName: latitude, dtype: float64"
                    }, 
                    "output_type": "execute_result"
                }
            ], 
            "source": "df[df['city']=='Lucknow'].latitude"
        }, 
        {
            "source": "### latitude and longitude from desired city", 
            "cell_type": "markdown", 
            "metadata": {}
        }, 
        {
            "source": "## predict the ideal coordinates in the city of your choice", 
            "cell_type": "markdown", 
            "metadata": {}
        }, 
        {
            "source": "#### ideal_location in each city is to be calculated as the mean location of the shops in the city", 
            "cell_type": "markdown", 
            "metadata": {}
        }, 
        {
            "execution_count": 16, 
            "cell_type": "code", 
            "metadata": {}, 
            "outputs": [
                {
                    "output_type": "stream", 
                    "name": "stdout", 
                    "text": "Optimum location in Lucknow will be  :(26.856433628903989, 80.958061639172641)  \nOptimum location in Noida will be  :(28.529100839553582, 77.372550358852493)  \nOptimum location in Varanasi will be  :(25.319060974773311, 82.994605457481683)  \n"
                }
            ], 
            "source": "listing=[]\nfor cityname in top3cities:\n    desired_city_coords = df[df['city']==cityname].latitude.values,df[df['city']==cityname].longitude.values\n    listing.append((np.mean(desired_city_coords[0]),np.mean(desired_city_coords[1])))\n    print(\"Optimum location in {} will be  :{}  \".format(cityname,(np.mean(desired_city_coords[0]),np.mean(desired_city_coords[1]))))"
        }, 
        {
            "source": "### Now we need a search call for available properties in the region", 
            "cell_type": "markdown", 
            "metadata": {}
        }, 
        {
            "source": "#### we have used zillow api for retrieving property data", 
            "cell_type": "markdown", 
            "metadata": {}
        }, 
        {
            "execution_count": 17, 
            "cell_type": "code", 
            "metadata": {}, 
            "outputs": [
                {
                    "execution_count": 17, 
                    "metadata": {}, 
                    "data": {
                        "text/plain": "[(26.856433628903989, 80.958061639172641),\n (28.529100839553582, 77.372550358852493),\n (25.319060974773311, 82.994605457481683)]"
                    }, 
                    "output_type": "execute_result"
                }
            ], 
            "source": "listing"
        }, 
        {
            "execution_count": 18, 
            "cell_type": "code", 
            "metadata": {}, 
            "outputs": [], 
            "source": "# The code was removed by DSX for sharing."
        }, 
        {
            "execution_count": null, 
            "cell_type": "code", 
            "metadata": {}, 
            "outputs": [], 
            "source": "locationforshop=[]\n\nfor _ in listing:\n    xval = _[0]\n    yval = _[1]\n    url =\"http://www.zillow.com/webservice/GetUpdatedPropertyDetails.htm?zws-id={}&zpid={}&ll={},{}\".format(zwsid,zpid,xval,yval)\n    locationforshop[(requests.get(url).json()['simplex'][\"owner\"])] = requests.get(url).json()['simplex'][\"info\"],requests.get(url).json()['simplex'][\"coords\"]\n    #locationforshop is a dictionary with values as tuple of tuple (nested tuple)"
        }, 
        {
            "execution_count": null, 
            "cell_type": "code", 
            "metadata": {}, 
            "outputs": [], 
            "source": "for i in range(len(listing)):\n    map_cluster = folium.Map([listing[i][0],listing[i][1]], zoom_start=12)\n    colors = ['yellow', 'green', 'blue', 'red', 'magenta']\n    for i in range(len(locationforshop)):\n        for lat, lon in locationforshop[1][i]:\n            label = ' {} '.format(locationforshop[\"info\"])\n            folium.CircleMarker([lat, lon], radius=7, popup=folium.Popup(label), color=colors[cluster], fill=True, fill_color=colors[cluster], fill_opacity=0.7).add_to(map_clusters)\n       \n        map_cluster"
        }, 
        {
            "execution_count": null, 
            "cell_type": "code", 
            "metadata": {}, 
            "outputs": [], 
            "source": ""
        }
    ], 
    "metadata": {
        "kernelspec": {
            "display_name": "Python 3.5", 
            "name": "python3", 
            "language": "python"
        }, 
        "language_info": {
            "mimetype": "text/x-python", 
            "nbconvert_exporter": "python", 
            "version": "3.5.5", 
            "name": "python", 
            "file_extension": ".py", 
            "pygments_lexer": "ipython3", 
            "codemirror_mode": {
                "version": 3, 
                "name": "ipython"
            }
        }
    }, 
    "nbformat": 4
}